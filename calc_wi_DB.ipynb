{
 "cells": [
  {
   "cell_type": "code",
   "execution_count": 8,
   "id": "69ab9742",
   "metadata": {},
   "outputs": [
    {
     "name": "stdout",
     "output_type": "stream",
     "text": [
      "ALLRIGHT!!!\n"
     ]
    },
    {
     "ename": "AttributeError",
     "evalue": "module 'mediapipe' has no attribute 'pose'",
     "output_type": "error",
     "traceback": [
      "\u001b[31m---------------------------------------------------------------------------\u001b[39m",
      "\u001b[31mAttributeError\u001b[39m                            Traceback (most recent call last)",
      "\u001b[36mCell\u001b[39m\u001b[36m \u001b[39m\u001b[32mIn[8]\u001b[39m\u001b[32m, line 6\u001b[39m\n\u001b[32m      3\u001b[39m image_path = \u001b[33m\"\u001b[39m\u001b[33mpros_squat/allright1.png\u001b[39m\u001b[33m\"\u001b[39m\n\u001b[32m      4\u001b[39m actual_height_allright_input = \u001b[32m180\u001b[39m\n\u001b[32m----> \u001b[39m\u001b[32m6\u001b[39m results_dict = \u001b[43mcalc_femur_and_torso_upgrade\u001b[49m\u001b[43m.\u001b[49m\u001b[43mcalc_femur_and_torso_upgrade\u001b[49m\u001b[43m(\u001b[49m\u001b[43mimage_path\u001b[49m\u001b[43m,\u001b[49m\u001b[43mactual_height_allright_input\u001b[49m\u001b[43m)\u001b[49m\n\u001b[32m      8\u001b[39m \u001b[38;5;28;01mif\u001b[39;00m results_dict:\n\u001b[32m      9\u001b[39m     db_filename = \u001b[33m'\u001b[39m\u001b[33mpro_db.csv\u001b[39m\u001b[33m'\u001b[39m\n",
      "\u001b[36mFile \u001b[39m\u001b[32mc:\\Users\\jbh03\\squat_with_ML\\calc_femur_and_torso_upgrade.py:42\u001b[39m, in \u001b[36mcalc_femur_and_torso_upgrade\u001b[39m\u001b[34m(img_path, actual_height_cm)\u001b[39m\n\u001b[32m     40\u001b[39m L_hip = landmarks[mp_pose.PoseLandmark.LEFT_HIP.value]\n\u001b[32m     41\u001b[39m L_knee = landmarks[mp_pose.PoseLandmark.LEFT_KNEE.value]\n\u001b[32m---> \u001b[39m\u001b[32m42\u001b[39m L_heel = landmarks[\u001b[43mmp\u001b[49m\u001b[43m.\u001b[49m\u001b[43mpose\u001b[49m.PoseLandmarks.LEFT_HEEL.value]\n\u001b[32m     44\u001b[39m L_shoulder_vis = L_shoulder.visibility\n\u001b[32m     45\u001b[39m L_hip_vis = L_hip.visibility\n",
      "\u001b[31mAttributeError\u001b[39m: module 'mediapipe' has no attribute 'pose'"
     ]
    }
   ],
   "source": [
    "import calc_femur_and_torso_upgrade\n",
    "\n",
    "image_path = \"pros_squat/allright1.png\"\n",
    "actual_height_allright_input = 180\n",
    "\n",
    "results_dict = calc_femur_and_torso_upgrade.calc_femur_and_torso_upgrade(image_path,actual_height_allright_input)\n",
    "\n",
    "if results_dict:\n",
    "    db_filename = 'pro_db.csv'\n",
    "\n",
    "    data = {\n",
    "        'Name' : ['ALLIGHT24'],\n",
    "        'Height(cm)' : [actual_height_allright_input],\n",
    "        'femur_length' : [results_dict['femur_length_cm']],\n",
    "        'torso_length' : [results_dict['torso_length_cm']],\n",
    "        'tfr_ratio' : [results_dict['tfr_ratio']],\n",
    "        'scale_factor': [results_dict['scale_factor']],\n",
    "        'selected_side' : [results_dict['selected_side']]\n",
    "    }\n",
    "\n",
    "    new_df = pd.DataFrame(data)\n",
    "\n",
    "    if os.path.exists(db_filename):\n",
    "        print(f\"\\n'{db_filename}' adding new pro's data to DB\")\n",
    "        existing_df = pd.read_csv(db_filename)\n",
    "\n",
    "        if data['Name'][0] in existing_df['Name'].values:\n",
    "            print(f\"[Warning] '{data['Name'][0]}' is already in the DB.\\nSaving Skipped!\\n\")\n",
    "        else:\n",
    "            combined_df = pd.concat([existing_df, new_df], ignore_index = True)\n",
    "            combined_df.to_csv(db_filename, index = False, encoding = 'utf-8-sig')\n",
    "\n",
    "    else:\n",
    "        print(f\"\\n'{db_filename}' file is created.\")\n",
    "        new_df.to_csv(db_filename, index = False, encoding='utf-8-sig')\n",
    "\n",
    "    print(\"\\n-----Final DB contents-----\")\n",
    "    final_db = pd.read_csv(db_filename)\n",
    "    print(final_db)\n",
    "\n",
    "else:\n",
    "    print(\"[Saving Failed] No results detected. Check the log of function!\")"
   ]
  }
 ],
 "metadata": {
  "kernelspec": {
   "display_name": "Python 3",
   "language": "python",
   "name": "python3"
  },
  "language_info": {
   "codemirror_mode": {
    "name": "ipython",
    "version": 3
   },
   "file_extension": ".py",
   "mimetype": "text/x-python",
   "name": "python",
   "nbconvert_exporter": "python",
   "pygments_lexer": "ipython3",
   "version": "3.11.9"
  }
 },
 "nbformat": 4,
 "nbformat_minor": 5
}
