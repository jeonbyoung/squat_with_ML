{
 "cells": [
  {
   "cell_type": "code",
   "execution_count": 1,
   "id": "ca425504",
   "metadata": {},
   "outputs": [],
   "source": [
    "import cv2\n",
    "import mediapipe as mp\n",
    "import math\n",
    "import pandas as pd\n",
    "import os"
   ]
  },
  {
   "cell_type": "code",
   "execution_count": 4,
   "id": "b2418f82",
   "metadata": {},
   "outputs": [
    {
     "name": "stdout",
     "output_type": "stream",
     "text": [
      "It's gonna be Allright!\n"
     ]
    }
   ],
   "source": [
    "mp_pose = mp.solutions.pose\n",
    "\n",
    "pose = mp_pose.Pose(static_image_mode = True)\n",
    "\n",
    "def calc_dist_3d(p1,p2):\n",
    "    distance = math.sqrt((p1.x-p2.x)**2+(p1.y-p2.y)**2+(p1.z-p2.z)**2)\n",
    "    return distance\n",
    "\n",
    "print(\"It's gonna be Allright!\")"
   ]
  },
  {
   "cell_type": "code",
   "execution_count": 29,
   "id": "4be6794b",
   "metadata": {},
   "outputs": [],
   "source": [
    "def calc_femur_and_torso(img_path):\n",
    "    img = cv2.imread(img_path)\n",
    "\n",
    "    femur_length = 0\n",
    "    torso_length = 0\n",
    "    tfr_ratio = 0\n",
    "    L_is_reliable = False\n",
    "    R_is_reliable = False\n",
    "\n",
    "    if img is None:\n",
    "        print(f\"'{img_path}' is not detected. plz check the file name\")\n",
    "\n",
    "    else:\n",
    "        img_rgb = cv2.cvtColor(img, cv2.COLOR_BGR2RGB)\n",
    "\n",
    "        results = pose.process(img_rgb)\n",
    "\n",
    "        if results.pose_landmarks:\n",
    "            print(\"ALLRIGHT!!!\")\n",
    "            landmarks = results.pose_landmarks.landmark\n",
    "\n",
    "            #For Left\n",
    "            L_shoulder = landmarks[mp_pose.PoseLandmark.LEFT_SHOULDER.value]\n",
    "            L_hip = landmarks[mp_pose.PoseLandmark.LEFT_HIP.value]\n",
    "            L_knee = landmarks[mp_pose.PoseLandmark.LEFT_KNEE.value]\n",
    "\n",
    "            L_shoulder_vis = L_shoulder.visibility\n",
    "            L_hip_vis = L_hip.visibility\n",
    "            L_knee_vis = L_knee.visibility\n",
    "\n",
    "            L_vis_avg = L_shoulder_vis+L_hip_vis+L_knee_vis/3.0\n",
    "\n",
    "            #For Left\n",
    "            R_shoulder = landmarks[mp_pose.PoseLandmark.RIGHT_SHOULDER.value]\n",
    "            R_hip = landmarks[mp_pose.PoseLandmark.RIGHT_HIP.value]\n",
    "            R_knee = landmarks[mp_pose.PoseLandmark.RIGHT_KNEE.value]\n",
    "\n",
    "            R_shoulder_vis = R_shoulder.visibility\n",
    "            R_hip_vis = R_hip.visibility\n",
    "            R_knee_vis = R_knee.visibility\n",
    "\n",
    "            R_vis_avg = L_shoulder_vis+L_hip_vis+L_knee_vis/3.0\n",
    "\n",
    "            vis_threshold = 0.8\n",
    "            R_is_vis = False\n",
    "            L_is_vis = False\n",
    "            select_L = False\n",
    "            select_R = False\n",
    "\n",
    "            if(L_shoulder_vis>vis_threshold and\n",
    "            L_hip_vis>vis_threshold and\n",
    "            L_knee_vis>vis_threshold):\n",
    "                L_is_vis = True\n",
    "\n",
    "            if(R_shoulder_vis>vis_threshold and\n",
    "            R_hip_vis>vis_threshold and\n",
    "            R_knee_vis>vis_threshold):\n",
    "                R_is_vis = True\n",
    "\n",
    "            if(L_is_vis or R_is_vis):\n",
    "                if(L_is_vis and R_is_vis):\n",
    "                    if(L_vis_avg>R_vis_avg):\n",
    "                        select_L = True\n",
    "                    else:\n",
    "                        select_R = True\n",
    "            \n",
    "                elif((L_is_vis and R_is_vis != True) or select_L):\n",
    "                    #The Key Value!\n",
    "                    #femur length = hip ~ knee\n",
    "                    femur_length = calc_dist_3d(L_hip,L_knee)\n",
    "\n",
    "                    #torso length = shoulder ~ hip\n",
    "                    torso_length = calc_dist_3d(L_shoulder, L_hip)\n",
    "                    print(\"Left things are selected.\")\n",
    "\n",
    "                elif((R_is_vis and L_is_vis != True) or select_R):\n",
    "                    #The Key Value!\n",
    "                    #femur length = hip ~ knee\n",
    "                    femur_length = calc_dist_3d(R_hip,R_knee)\n",
    "\n",
    "                    #torso length = shoulder ~ hip\n",
    "                    torso_length = calc_dist_3d(R_shoulder, R_hip)\n",
    "                    print(\"Right things are selected.\")\n",
    "\n",
    "                if torso_length >0:\n",
    "                    tfr_ratio = femur_length/torso_length\n",
    "\n",
    "                print(f\"The estimated relative femur length : {femur_length:.4f}\")\n",
    "                print(f\"The estimated relative torso length : {torso_length:.4f}\")\n",
    "                print(f\"The estimated TFR(femur/torso) ratio : {tfr_ratio:.4f}\")\n",
    "\n",
    "\n",
    "            else:\n",
    "                print(f\"\\n [WARNING] TOO LOW RELIABILITY OF THE POINTS (criteria : {vis_threshold}).\")\n",
    "                print(\"Plz check the angle of the photo or take another snap\")\n",
    "\n",
    "        else:\n",
    "            print(\"Cannot detect the points on the image.\")\n",
    "            print(\"Plz check whether the image is for standing pose.\")"
   ]
  },
  {
   "cell_type": "code",
   "execution_count": 30,
   "id": "30833ce2",
   "metadata": {},
   "outputs": [
    {
     "name": "stdout",
     "output_type": "stream",
     "text": [
      "ALLRIGHT!!!\n",
      "Right things are selected.\n",
      "The estimated relative femur length : 0.2228\n",
      "The estimated relative torso length : 0.2586\n",
      "The estimated TFR(femur/torso) ratio : 0.8617\n",
      "\n",
      "Cannot detect the points on the image.\n",
      "Plz check whether the image is for standing pose.\n",
      "\n",
      "ALLRIGHT!!!\n",
      "Left things are selected.\n",
      "The estimated relative femur length : 0.2193\n",
      "The estimated relative torso length : 0.3106\n",
      "The estimated TFR(femur/torso) ratio : 0.7062\n"
     ]
    }
   ],
   "source": [
    "calc_femur_and_torso('allright1.png')\n",
    "print()\n",
    "calc_femur_and_torso('allright2.png')\n",
    "print()\n",
    "calc_femur_and_torso('cbum1.png')"
   ]
  }
 ],
 "metadata": {
  "kernelspec": {
   "display_name": "Python 3",
   "language": "python",
   "name": "python3"
  },
  "language_info": {
   "codemirror_mode": {
    "name": "ipython",
    "version": 3
   },
   "file_extension": ".py",
   "mimetype": "text/x-python",
   "name": "python",
   "nbconvert_exporter": "python",
   "pygments_lexer": "ipython3",
   "version": "3.11.9"
  }
 },
 "nbformat": 4,
 "nbformat_minor": 5
}
